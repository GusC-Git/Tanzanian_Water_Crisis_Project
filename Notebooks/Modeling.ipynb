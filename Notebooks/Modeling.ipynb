{
 "cells": [
  {
   "cell_type": "markdown",
   "metadata": {},
   "source": [
    "# Final Project Submission\n",
    "\n",
    "* Student Name: Gustavo Chavez \n",
    "\n",
    "* Student Pace: Full time\n",
    "\n",
    "* Instructor Name: Abhineet Kulkarni"
   ]
  },
  {
   "cell_type": "code",
   "execution_count": 1,
   "metadata": {},
   "outputs": [],
   "source": [
    "import numpy as np\n",
    "import pandas as pd\n",
    "import matplotlib.pyplot as plt\n",
    "import seaborn as sns\n",
    "sns.set_style(\"dark\")\n",
    "import os\n",
    "import warnings\n",
    "warnings.filterwarnings(\"ignore\")"
   ]
  },
  {
   "cell_type": "code",
   "execution_count": 2,
   "metadata": {},
   "outputs": [
    {
     "data": {
      "text/plain": [
       "'C:\\\\Users\\\\Gustavo\\\\flatiron\\\\class-material\\\\section03\\\\Phase03Project\\\\Notebooks'"
      ]
     },
     "execution_count": 2,
     "metadata": {},
     "output_type": "execute_result"
    }
   ],
   "source": [
    "os.getcwd()"
   ]
  },
  {
   "cell_type": "code",
   "execution_count": 3,
   "metadata": {},
   "outputs": [],
   "source": [
    "#preparing the data for modeling\n",
    "from sklearn.preprocessing import StandardScaler, MinMaxScaler\n",
    "from sklearn.model_selection import train_test_split\n",
    "from imblearn.over_sampling import SMOTE\n",
    "\n",
    "#Tuning and getting stats from our models\n",
    "from sklearn.metrics import accuracy_score, confusion_matrix, classification_report\n",
    "from sklearn.model_selection import GridSearchCV\n",
    "from sklearn.feature_selection import SelectKBest, chi2, mutual_info_classif\n",
    "\n",
    "\n",
    "#Models/Classifiers we will be using\n",
    "from sklearn.linear_model import LogisticRegression\n",
    "from sklearn.neighbors import KNeighborsClassifier\n",
    "from xgboost import XGBClassifier\n",
    "from sklearn.tree import DecisionTreeClassifier\n",
    "from sklearn.ensemble import BaggingClassifier, RandomForestClassifier\n",
    "\n",
    "#Final steps\n",
    "from sklearn.pipeline import make_pipeline, Pipeline\n",
    "from sklearn.ensemble import StackingClassifier\n"
   ]
  },
  {
   "cell_type": "markdown",
   "metadata": {},
   "source": [
    "# Loading data and creating dummies"
   ]
  },
  {
   "cell_type": "code",
   "execution_count": 4,
   "metadata": {},
   "outputs": [],
   "source": [
    "#Loadin dataset\n",
    "scrubbed_set = pd.read_csv(\"../Data/scrubbed_trainingdata.csv\")\n",
    "scrubbed_set.drop(columns= 'Unnamed: 0', inplace=True)"
   ]
  },
  {
   "cell_type": "code",
   "execution_count": 5,
   "metadata": {},
   "outputs": [
    {
     "data": {
      "text/plain": [
       "Index(['id', 'amount_tsh', 'date_recorded', 'funder', 'gps_height',\n",
       "       'installer', 'longitude', 'latitude', 'basin', 'region', 'population',\n",
       "       'public_meeting', 'permit', 'construction_year',\n",
       "       'extraction_type_class', 'management', 'payment_type', 'quality_group',\n",
       "       'quantity', 'source_type', 'waterpoint_type_group', 'status_group',\n",
       "       'years_since_construction', 'days_since_recorded'],\n",
       "      dtype='object')"
      ]
     },
     "execution_count": 5,
     "metadata": {},
     "output_type": "execute_result"
    }
   ],
   "source": [
    "scrubbed_set.columns"
   ]
  },
  {
   "cell_type": "code",
   "execution_count": 6,
   "metadata": {},
   "outputs": [],
   "source": [
    "#Assign X features and y target within dataset\n",
    "scrubbedX = scrubbed_set.drop(columns=['id','date_recorded','construction_year','status_group'])\n",
    "scrubbedy = scrubbed_set['status_group']"
   ]
  },
  {
   "cell_type": "code",
   "execution_count": 7,
   "metadata": {},
   "outputs": [
    {
     "data": {
      "text/html": [
       "<div>\n",
       "<style scoped>\n",
       "    .dataframe tbody tr th:only-of-type {\n",
       "        vertical-align: middle;\n",
       "    }\n",
       "\n",
       "    .dataframe tbody tr th {\n",
       "        vertical-align: top;\n",
       "    }\n",
       "\n",
       "    .dataframe thead th {\n",
       "        text-align: right;\n",
       "    }\n",
       "</style>\n",
       "<table border=\"1\" class=\"dataframe\">\n",
       "  <thead>\n",
       "    <tr style=\"text-align: right;\">\n",
       "      <th></th>\n",
       "      <th>amount_tsh</th>\n",
       "      <th>gps_height</th>\n",
       "      <th>longitude</th>\n",
       "      <th>latitude</th>\n",
       "      <th>population</th>\n",
       "      <th>public_meeting</th>\n",
       "      <th>permit</th>\n",
       "      <th>years_since_construction</th>\n",
       "      <th>days_since_recorded</th>\n",
       "      <th>funder_Government Of Tanzania</th>\n",
       "      <th>...</th>\n",
       "      <th>source_type_other</th>\n",
       "      <th>source_type_rainwater harvesting</th>\n",
       "      <th>source_type_river/lake</th>\n",
       "      <th>source_type_shallow well</th>\n",
       "      <th>source_type_spring</th>\n",
       "      <th>waterpoint_type_group_communal standpipe</th>\n",
       "      <th>waterpoint_type_group_dam</th>\n",
       "      <th>waterpoint_type_group_hand pump</th>\n",
       "      <th>waterpoint_type_group_improved spring</th>\n",
       "      <th>waterpoint_type_group_other</th>\n",
       "    </tr>\n",
       "  </thead>\n",
       "  <tbody>\n",
       "    <tr>\n",
       "      <th>0</th>\n",
       "      <td>6000.0</td>\n",
       "      <td>1390</td>\n",
       "      <td>34.938093</td>\n",
       "      <td>-9.856322</td>\n",
       "      <td>109</td>\n",
       "      <td>1.0</td>\n",
       "      <td>0.0</td>\n",
       "      <td>14.0</td>\n",
       "      <td>995</td>\n",
       "      <td>0</td>\n",
       "      <td>...</td>\n",
       "      <td>0</td>\n",
       "      <td>0</td>\n",
       "      <td>0</td>\n",
       "      <td>0</td>\n",
       "      <td>1</td>\n",
       "      <td>1</td>\n",
       "      <td>0</td>\n",
       "      <td>0</td>\n",
       "      <td>0</td>\n",
       "      <td>0</td>\n",
       "    </tr>\n",
       "    <tr>\n",
       "      <th>1</th>\n",
       "      <td>0.0</td>\n",
       "      <td>1399</td>\n",
       "      <td>34.698766</td>\n",
       "      <td>-2.147466</td>\n",
       "      <td>280</td>\n",
       "      <td>1.0</td>\n",
       "      <td>1.0</td>\n",
       "      <td>3.0</td>\n",
       "      <td>272</td>\n",
       "      <td>0</td>\n",
       "      <td>...</td>\n",
       "      <td>0</td>\n",
       "      <td>1</td>\n",
       "      <td>0</td>\n",
       "      <td>0</td>\n",
       "      <td>0</td>\n",
       "      <td>1</td>\n",
       "      <td>0</td>\n",
       "      <td>0</td>\n",
       "      <td>0</td>\n",
       "      <td>0</td>\n",
       "    </tr>\n",
       "    <tr>\n",
       "      <th>2</th>\n",
       "      <td>25.0</td>\n",
       "      <td>686</td>\n",
       "      <td>37.460664</td>\n",
       "      <td>-3.821329</td>\n",
       "      <td>250</td>\n",
       "      <td>1.0</td>\n",
       "      <td>1.0</td>\n",
       "      <td>4.0</td>\n",
       "      <td>281</td>\n",
       "      <td>0</td>\n",
       "      <td>...</td>\n",
       "      <td>0</td>\n",
       "      <td>0</td>\n",
       "      <td>0</td>\n",
       "      <td>0</td>\n",
       "      <td>0</td>\n",
       "      <td>1</td>\n",
       "      <td>0</td>\n",
       "      <td>0</td>\n",
       "      <td>0</td>\n",
       "      <td>0</td>\n",
       "    </tr>\n",
       "    <tr>\n",
       "      <th>3</th>\n",
       "      <td>0.0</td>\n",
       "      <td>263</td>\n",
       "      <td>38.486161</td>\n",
       "      <td>-11.155298</td>\n",
       "      <td>58</td>\n",
       "      <td>1.0</td>\n",
       "      <td>1.0</td>\n",
       "      <td>27.0</td>\n",
       "      <td>309</td>\n",
       "      <td>0</td>\n",
       "      <td>...</td>\n",
       "      <td>0</td>\n",
       "      <td>0</td>\n",
       "      <td>0</td>\n",
       "      <td>0</td>\n",
       "      <td>0</td>\n",
       "      <td>1</td>\n",
       "      <td>0</td>\n",
       "      <td>0</td>\n",
       "      <td>0</td>\n",
       "      <td>0</td>\n",
       "    </tr>\n",
       "    <tr>\n",
       "      <th>4</th>\n",
       "      <td>0.0</td>\n",
       "      <td>0</td>\n",
       "      <td>31.130847</td>\n",
       "      <td>-1.825359</td>\n",
       "      <td>0</td>\n",
       "      <td>1.0</td>\n",
       "      <td>1.0</td>\n",
       "      <td>17.0</td>\n",
       "      <td>874</td>\n",
       "      <td>0</td>\n",
       "      <td>...</td>\n",
       "      <td>0</td>\n",
       "      <td>1</td>\n",
       "      <td>0</td>\n",
       "      <td>0</td>\n",
       "      <td>0</td>\n",
       "      <td>1</td>\n",
       "      <td>0</td>\n",
       "      <td>0</td>\n",
       "      <td>0</td>\n",
       "      <td>0</td>\n",
       "    </tr>\n",
       "    <tr>\n",
       "      <th>5</th>\n",
       "      <td>20.0</td>\n",
       "      <td>0</td>\n",
       "      <td>39.172796</td>\n",
       "      <td>-4.765587</td>\n",
       "      <td>1</td>\n",
       "      <td>1.0</td>\n",
       "      <td>1.0</td>\n",
       "      <td>4.0</td>\n",
       "      <td>996</td>\n",
       "      <td>0</td>\n",
       "      <td>...</td>\n",
       "      <td>1</td>\n",
       "      <td>0</td>\n",
       "      <td>0</td>\n",
       "      <td>0</td>\n",
       "      <td>0</td>\n",
       "      <td>1</td>\n",
       "      <td>0</td>\n",
       "      <td>0</td>\n",
       "      <td>0</td>\n",
       "      <td>0</td>\n",
       "    </tr>\n",
       "    <tr>\n",
       "      <th>6</th>\n",
       "      <td>0.0</td>\n",
       "      <td>0</td>\n",
       "      <td>33.362410</td>\n",
       "      <td>-3.766365</td>\n",
       "      <td>0</td>\n",
       "      <td>1.0</td>\n",
       "      <td>1.0</td>\n",
       "      <td>17.0</td>\n",
       "      <td>428</td>\n",
       "      <td>0</td>\n",
       "      <td>...</td>\n",
       "      <td>0</td>\n",
       "      <td>0</td>\n",
       "      <td>0</td>\n",
       "      <td>0</td>\n",
       "      <td>0</td>\n",
       "      <td>0</td>\n",
       "      <td>0</td>\n",
       "      <td>1</td>\n",
       "      <td>0</td>\n",
       "      <td>0</td>\n",
       "    </tr>\n",
       "    <tr>\n",
       "      <th>7</th>\n",
       "      <td>0.0</td>\n",
       "      <td>0</td>\n",
       "      <td>32.620617</td>\n",
       "      <td>-4.226198</td>\n",
       "      <td>0</td>\n",
       "      <td>1.0</td>\n",
       "      <td>1.0</td>\n",
       "      <td>17.0</td>\n",
       "      <td>420</td>\n",
       "      <td>0</td>\n",
       "      <td>...</td>\n",
       "      <td>0</td>\n",
       "      <td>0</td>\n",
       "      <td>0</td>\n",
       "      <td>1</td>\n",
       "      <td>0</td>\n",
       "      <td>0</td>\n",
       "      <td>0</td>\n",
       "      <td>1</td>\n",
       "      <td>0</td>\n",
       "      <td>0</td>\n",
       "    </tr>\n",
       "    <tr>\n",
       "      <th>8</th>\n",
       "      <td>0.0</td>\n",
       "      <td>0</td>\n",
       "      <td>32.711100</td>\n",
       "      <td>-5.146712</td>\n",
       "      <td>0</td>\n",
       "      <td>1.0</td>\n",
       "      <td>1.0</td>\n",
       "      <td>17.0</td>\n",
       "      <td>395</td>\n",
       "      <td>0</td>\n",
       "      <td>...</td>\n",
       "      <td>0</td>\n",
       "      <td>0</td>\n",
       "      <td>0</td>\n",
       "      <td>0</td>\n",
       "      <td>0</td>\n",
       "      <td>0</td>\n",
       "      <td>0</td>\n",
       "      <td>1</td>\n",
       "      <td>0</td>\n",
       "      <td>0</td>\n",
       "    </tr>\n",
       "    <tr>\n",
       "      <th>9</th>\n",
       "      <td>0.0</td>\n",
       "      <td>0</td>\n",
       "      <td>30.626991</td>\n",
       "      <td>-1.257051</td>\n",
       "      <td>0</td>\n",
       "      <td>1.0</td>\n",
       "      <td>1.0</td>\n",
       "      <td>17.0</td>\n",
       "      <td>853</td>\n",
       "      <td>0</td>\n",
       "      <td>...</td>\n",
       "      <td>0</td>\n",
       "      <td>0</td>\n",
       "      <td>0</td>\n",
       "      <td>1</td>\n",
       "      <td>0</td>\n",
       "      <td>0</td>\n",
       "      <td>0</td>\n",
       "      <td>1</td>\n",
       "      <td>0</td>\n",
       "      <td>0</td>\n",
       "    </tr>\n",
       "  </tbody>\n",
       "</table>\n",
       "<p>10 rows × 97 columns</p>\n",
       "</div>"
      ],
      "text/plain": [
       "   amount_tsh  gps_height  longitude   latitude  population  public_meeting  \\\n",
       "0      6000.0        1390  34.938093  -9.856322         109             1.0   \n",
       "1         0.0        1399  34.698766  -2.147466         280             1.0   \n",
       "2        25.0         686  37.460664  -3.821329         250             1.0   \n",
       "3         0.0         263  38.486161 -11.155298          58             1.0   \n",
       "4         0.0           0  31.130847  -1.825359           0             1.0   \n",
       "5        20.0           0  39.172796  -4.765587           1             1.0   \n",
       "6         0.0           0  33.362410  -3.766365           0             1.0   \n",
       "7         0.0           0  32.620617  -4.226198           0             1.0   \n",
       "8         0.0           0  32.711100  -5.146712           0             1.0   \n",
       "9         0.0           0  30.626991  -1.257051           0             1.0   \n",
       "\n",
       "   permit  years_since_construction  days_since_recorded  \\\n",
       "0     0.0                      14.0                  995   \n",
       "1     1.0                       3.0                  272   \n",
       "2     1.0                       4.0                  281   \n",
       "3     1.0                      27.0                  309   \n",
       "4     1.0                      17.0                  874   \n",
       "5     1.0                       4.0                  996   \n",
       "6     1.0                      17.0                  428   \n",
       "7     1.0                      17.0                  420   \n",
       "8     1.0                      17.0                  395   \n",
       "9     1.0                      17.0                  853   \n",
       "\n",
       "   funder_Government Of Tanzania  ...  source_type_other  \\\n",
       "0                              0  ...                  0   \n",
       "1                              0  ...                  0   \n",
       "2                              0  ...                  0   \n",
       "3                              0  ...                  0   \n",
       "4                              0  ...                  0   \n",
       "5                              0  ...                  1   \n",
       "6                              0  ...                  0   \n",
       "7                              0  ...                  0   \n",
       "8                              0  ...                  0   \n",
       "9                              0  ...                  0   \n",
       "\n",
       "   source_type_rainwater harvesting  source_type_river/lake  \\\n",
       "0                                 0                       0   \n",
       "1                                 1                       0   \n",
       "2                                 0                       0   \n",
       "3                                 0                       0   \n",
       "4                                 1                       0   \n",
       "5                                 0                       0   \n",
       "6                                 0                       0   \n",
       "7                                 0                       0   \n",
       "8                                 0                       0   \n",
       "9                                 0                       0   \n",
       "\n",
       "   source_type_shallow well  source_type_spring  \\\n",
       "0                         0                   1   \n",
       "1                         0                   0   \n",
       "2                         0                   0   \n",
       "3                         0                   0   \n",
       "4                         0                   0   \n",
       "5                         0                   0   \n",
       "6                         0                   0   \n",
       "7                         1                   0   \n",
       "8                         0                   0   \n",
       "9                         1                   0   \n",
       "\n",
       "   waterpoint_type_group_communal standpipe  waterpoint_type_group_dam  \\\n",
       "0                                         1                          0   \n",
       "1                                         1                          0   \n",
       "2                                         1                          0   \n",
       "3                                         1                          0   \n",
       "4                                         1                          0   \n",
       "5                                         1                          0   \n",
       "6                                         0                          0   \n",
       "7                                         0                          0   \n",
       "8                                         0                          0   \n",
       "9                                         0                          0   \n",
       "\n",
       "   waterpoint_type_group_hand pump  waterpoint_type_group_improved spring  \\\n",
       "0                                0                                      0   \n",
       "1                                0                                      0   \n",
       "2                                0                                      0   \n",
       "3                                0                                      0   \n",
       "4                                0                                      0   \n",
       "5                                0                                      0   \n",
       "6                                1                                      0   \n",
       "7                                1                                      0   \n",
       "8                                1                                      0   \n",
       "9                                1                                      0   \n",
       "\n",
       "   waterpoint_type_group_other  \n",
       "0                            0  \n",
       "1                            0  \n",
       "2                            0  \n",
       "3                            0  \n",
       "4                            0  \n",
       "5                            0  \n",
       "6                            0  \n",
       "7                            0  \n",
       "8                            0  \n",
       "9                            0  \n",
       "\n",
       "[10 rows x 97 columns]"
      ]
     },
     "execution_count": 7,
     "metadata": {},
     "output_type": "execute_result"
    }
   ],
   "source": [
    "#Pulls all categorical columns within the dataset\n",
    "categoricals = []\n",
    "for column in scrubbedX.columns:\n",
    "    if scrubbedX[column].dtype == 'object':\n",
    "        categoricals.append(column)\n",
    "    else:\n",
    "        continue\n",
    "#Combines dummy variables and continuous variables back together\n",
    "dummies = pd.get_dummies(scrubbedX[categoricals], prefix= categoricals, drop_first=True)\n",
    "scrubbedX_ = scrubbedX.drop(columns = categoricals)\n",
    "scrubbedX_ = pd.concat([scrubbedX_, dummies], axis=1)\n",
    "scrubbedX_.head(10)"
   ]
  },
  {
   "cell_type": "markdown",
   "metadata": {},
   "source": [
    "### Split the data"
   ]
  },
  {
   "cell_type": "code",
   "execution_count": 8,
   "metadata": {},
   "outputs": [],
   "source": [
    "#Splits data into train and test sets\n",
    "sX_train, sX_test, sy_train, sy_test = train_test_split(scrubbedX_, scrubbedy)"
   ]
  },
  {
   "cell_type": "markdown",
   "metadata": {},
   "source": [
    "## Random Forest Classifier"
   ]
  },
  {
   "cell_type": "code",
   "execution_count": 9,
   "metadata": {},
   "outputs": [],
   "source": [
    "forest = RandomForestClassifier()"
   ]
  },
  {
   "cell_type": "code",
   "execution_count": 278,
   "metadata": {},
   "outputs": [
    {
     "name": "stdout",
     "output_type": "stream",
     "text": [
      "{'criterion': 'gini', 'max_depth': None, 'min_samples_leaf': 2, 'min_samples_split': 5, 'n_estimators': 500}\n"
     ]
    }
   ],
   "source": [
    "#Parameter grid for random forest for gridsearchCV\n",
    "rf_param_grid = {'n_estimators': [100,1000, 500],\\\n",
    "                'criterion': ['gini','entropy'],\\\n",
    "                'max_depth': [ None, 10, 15],\\\n",
    "                'min_samples_split': [2, 5],\\\n",
    "                'min_samples_leaf': [2, 3]}\n",
    "\n",
    "gs_tree = GridSearchCV(forest, rf_param_grid, cv=3)\n",
    "\n",
    "gs_tree.fit(sX_train, sy_train)\n",
    "print(gs_tree.best_params_)"
   ]
  },
  {
   "cell_type": "code",
   "execution_count": 10,
   "metadata": {},
   "outputs": [
    {
     "name": "stdout",
     "output_type": "stream",
     "text": [
      "Random Forest\n",
      "-------------------------\n",
      "Training Accuracy: 89.51%\n",
      "Test Accuracy:     80.33%\n"
     ]
    }
   ],
   "source": [
    "forest = RandomForestClassifier(n_estimators=500, criterion='gini', \n",
    "                                max_depth=None, min_samples_split=5, min_samples_leaf=2)\n",
    "\n",
    "#Train data on the model\n",
    "forest.fit(sX_train, sy_train)\n",
    "\n",
    "#Predictions for the training and test set\n",
    "forest_train_preds = forest.predict(sX_train)\n",
    "forest_test_preds = forest.predict(sX_test)\n",
    "\n",
    "#Create Classification Result\n",
    "train_accuracy_forest = accuracy_score(sy_train, forest_train_preds)\n",
    "test_accuracy_forest = accuracy_score(sy_test, forest_test_preds)\n",
    "report_forest = classification_report(sy_test, forest_test_preds)\n",
    "\n",
    "\n",
    "print(\"Random Forest\")\n",
    "print(\"-------------------------\")\n",
    "print(f\"Training Accuracy: {(train_accuracy_forest * 100):.4}%\")\n",
    "print(f\"Test Accuracy:     {(test_accuracy_forest * 100):.4}%\")\n",
    "\n",
    "# append accuracy score to our dataframe\n",
    "score_forest = ['Random Forest', train_accuracy_forest, test_accuracy_forest]"
   ]
  },
  {
   "cell_type": "code",
   "execution_count": 11,
   "metadata": {},
   "outputs": [
    {
     "name": "stdout",
     "output_type": "stream",
     "text": [
      "                         precision    recall  f1-score   support\n",
      "\n",
      "             functional       0.79      0.90      0.84      8106\n",
      "functional needs repair       0.64      0.27      0.38      1073\n",
      "         non functional       0.83      0.76      0.80      5671\n",
      "\n",
      "               accuracy                           0.80     14850\n",
      "              macro avg       0.76      0.64      0.67     14850\n",
      "           weighted avg       0.80      0.80      0.79     14850\n",
      "\n"
     ]
    }
   ],
   "source": [
    "print(report_forest)"
   ]
  },
  {
   "cell_type": "markdown",
   "metadata": {},
   "source": [
    "The highest precision is on the nonfunctional wells and have been able to recall 91% of the functional wells. The f-1 score is 0.85, which also means this model performs pretty well overall. There is a class imbalance with 'functional needs repair' class having significantly fewer than the others, this is reflected in the model by the low recall on said class. The percentage difference between the training accuracy and the test accuracy suggests some overfitting on the training data."
   ]
  },
  {
   "cell_type": "markdown",
   "metadata": {},
   "source": [
    "_________________________________________"
   ]
  },
  {
   "cell_type": "markdown",
   "metadata": {},
   "source": [
    "## XGBoost Classifier"
   ]
  },
  {
   "cell_type": "code",
   "execution_count": 12,
   "metadata": {},
   "outputs": [],
   "source": [
    "xgbooster = XGBClassifier()"
   ]
  },
  {
   "cell_type": "code",
   "execution_count": 227,
   "metadata": {},
   "outputs": [
    {
     "name": "stdout",
     "output_type": "stream",
     "text": [
      "{'gamma': 0.2, 'learning_rate': 0.1, 'max_depth': 7, 'n_estimators': 200}\n"
     ]
    }
   ],
   "source": [
    "xgb_param_grid = {'n_estimators': [100, 200],\\\n",
    "                 'learning_rate': [ 0.05, 0.1],\\\n",
    "                 'max_depth': [6,7],\\\n",
    "                 'gamma': [0.0, 0.1, 0.2]}\n",
    "\n",
    "gs_boost = GridSearchCV(xgbooster, xgb_param_grid, scoring='accuracy', cv=3)\n",
    "\n",
    "gs_boost.fit(sX_train, sy_train)\n",
    "print(gs_boost.best_params_)"
   ]
  },
  {
   "cell_type": "code",
   "execution_count": 13,
   "metadata": {},
   "outputs": [
    {
     "name": "stdout",
     "output_type": "stream",
     "text": [
      "XGBoost\n",
      "-------------------------\n",
      "Training Accuracy: 84.83%\n",
      "Test Accuracy:     79.69%\n"
     ]
    }
   ],
   "source": [
    "xgbooster = XGBClassifier(n_estimators= 200,learning_rate= 0.1, max_depth= 7,\\\n",
    "                         gamma= 0.2)\n",
    "\n",
    "#Train data on the model\n",
    "xgbooster.fit(sX_train, sy_train)\n",
    "\n",
    "#Predictions for the training and test set\n",
    "xgbooster_train_preds = xgbooster.predict(sX_train)\n",
    "xgbooster_test_preds = xgbooster.predict(sX_test)\n",
    "\n",
    "#Create Classification Result\n",
    "train_accuracy_xgbooster = accuracy_score(sy_train, xgbooster_train_preds)\n",
    "test_accuracy_xgbooster = accuracy_score(sy_test, xgbooster_test_preds)\n",
    "report_xgbooster = classification_report(sy_test, xgbooster_test_preds)\n",
    "\n",
    "print(\"XGBoost\")\n",
    "print(\"-------------------------\")\n",
    "print(f\"Training Accuracy: {(train_accuracy_xgbooster * 100):.4}%\")\n",
    "print(f\"Test Accuracy:     {(test_accuracy_xgbooster * 100):.4}%\")"
   ]
  },
  {
   "cell_type": "code",
   "execution_count": 14,
   "metadata": {},
   "outputs": [
    {
     "name": "stdout",
     "output_type": "stream",
     "text": [
      "                         precision    recall  f1-score   support\n",
      "\n",
      "             functional       0.78      0.91      0.84      8106\n",
      "functional needs repair       0.63      0.24      0.35      1073\n",
      "         non functional       0.84      0.74      0.79      5671\n",
      "\n",
      "               accuracy                           0.80     14850\n",
      "              macro avg       0.75      0.63      0.66     14850\n",
      "           weighted avg       0.79      0.80      0.78     14850\n",
      "\n"
     ]
    }
   ],
   "source": [
    "print(report_xgbooster)"
   ]
  },
  {
   "cell_type": "markdown",
   "metadata": {},
   "source": [
    "Scores across the board are either just as good if not slightly worse when compared to the random forest model. Once again there is a low recall for the minority class of 'functional needs repair'. There is a very slight improvement in precision and f1 score for the non functional class in this model. Overall accuracy seems good as well with 79.6%. The training accuracy and test accuracy have a near 5% difference, which could suggest some slight overfitting on the training data."
   ]
  },
  {
   "cell_type": "markdown",
   "metadata": {},
   "source": [
    "________________________________"
   ]
  },
  {
   "cell_type": "markdown",
   "metadata": {},
   "source": [
    "### Scaling the data for KNN and Logistic Regression"
   ]
  },
  {
   "cell_type": "code",
   "execution_count": 15,
   "metadata": {},
   "outputs": [],
   "source": [
    "#Scaler to use\n",
    "scaler = MinMaxScaler()\n",
    "\n",
    "#ssX = scaled, scrubbed X\n",
    "ssX_train = scaler.fit_transform(sX_train)\n",
    "ssX_test = scaler.transform(sX_test)"
   ]
  },
  {
   "cell_type": "markdown",
   "metadata": {},
   "source": [
    "_________________________________"
   ]
  },
  {
   "cell_type": "markdown",
   "metadata": {},
   "source": [
    "## KNN Classifier"
   ]
  },
  {
   "cell_type": "code",
   "execution_count": 16,
   "metadata": {},
   "outputs": [],
   "source": [
    "knn = KNeighborsClassifier()"
   ]
  },
  {
   "cell_type": "code",
   "execution_count": 235,
   "metadata": {},
   "outputs": [
    {
     "name": "stdout",
     "output_type": "stream",
     "text": [
      "{'n_neighbors': 8, 'weights': 'distance'}\n"
     ]
    }
   ],
   "source": [
    "knn_param_grid = {'n_neighbors': [3, 5, 8, 10],\\\n",
    "                 'weights': ['uniform','distance']}\n",
    "\n",
    "gs_knn = GridSearchCV(knn, knn_param_grid, scoring= 'accuracy', cv= 3)\n",
    "\n",
    "gs_knn.fit(ssX_train, sy_train)\n",
    "print(gs_knn.best_params_)"
   ]
  },
  {
   "cell_type": "code",
   "execution_count": 17,
   "metadata": {},
   "outputs": [
    {
     "name": "stdout",
     "output_type": "stream",
     "text": [
      "K-Nearest Neighbors\n",
      "-------------------------\n",
      "Training Accuracy: 99.82%\n",
      "Test Accuracy:     77.79%\n"
     ]
    }
   ],
   "source": [
    "knn = KNeighborsClassifier(n_neighbors= 8 , weights= 'distance' )\n",
    "\n",
    "#Train data on the model\n",
    "knn.fit(ssX_train, sy_train)\n",
    "\n",
    "#Predictions for the training and test set\n",
    "knn_train_preds = knn.predict(ssX_train)\n",
    "knn_test_preds = knn.predict(ssX_test)\n",
    "\n",
    "#Create Classification Result\n",
    "train_accuracy_knn = accuracy_score(sy_train, knn_train_preds)\n",
    "test_accuracy_knn = accuracy_score(sy_test, knn_test_preds)\n",
    "report_knn = classification_report(sy_test, knn_test_preds)\n",
    "\n",
    "print(\"K-Nearest Neighbors\")\n",
    "print(\"-------------------------\")\n",
    "print(f\"Training Accuracy: {(train_accuracy_knn * 100):.4}%\")\n",
    "print(f\"Test Accuracy:     {(test_accuracy_knn * 100):.4}%\")"
   ]
  },
  {
   "cell_type": "code",
   "execution_count": 18,
   "metadata": {},
   "outputs": [
    {
     "name": "stdout",
     "output_type": "stream",
     "text": [
      "                         precision    recall  f1-score   support\n",
      "\n",
      "             functional       0.80      0.85      0.82      8106\n",
      "functional needs repair       0.47      0.34      0.39      1073\n",
      "         non functional       0.79      0.76      0.78      5671\n",
      "\n",
      "               accuracy                           0.78     14850\n",
      "              macro avg       0.69      0.65      0.66     14850\n",
      "           weighted avg       0.77      0.78      0.77     14850\n",
      "\n"
     ]
    }
   ],
   "source": [
    "print(report_knn)"
   ]
  },
  {
   "cell_type": "markdown",
   "metadata": {},
   "source": [
    "th this model there is a noticeable increase in the recall of the minority class 'functional needs repair' as compared to our previous two models. However, this model is most definitely overfitted to the training data, with a 99.82% accuracy on training data and a 77.82% accuracy on the test. that is a 22% difference! This model was 2.77% less accurate than the random forest model."
   ]
  },
  {
   "cell_type": "markdown",
   "metadata": {},
   "source": [
    "_________________________________"
   ]
  },
  {
   "cell_type": "markdown",
   "metadata": {},
   "source": [
    "## Logistic Regression Classifier"
   ]
  },
  {
   "cell_type": "code",
   "execution_count": 19,
   "metadata": {},
   "outputs": [],
   "source": [
    "logreg = LogisticRegression(multi_class= 'multinomial')"
   ]
  },
  {
   "cell_type": "code",
   "execution_count": 255,
   "metadata": {},
   "outputs": [
    {
     "name": "stderr",
     "output_type": "stream",
     "text": [
      "C:\\Users\\Gustavo\\Anaconda3\\envs\\learn-env\\lib\\site-packages\\sklearn\\linear_model\\_logistic.py:764: ConvergenceWarning: lbfgs failed to converge (status=1):\n",
      "STOP: TOTAL NO. of ITERATIONS REACHED LIMIT.\n",
      "\n",
      "Increase the number of iterations (max_iter) or scale the data as shown in:\n",
      "    https://scikit-learn.org/stable/modules/preprocessing.html\n",
      "Please also refer to the documentation for alternative solver options:\n",
      "    https://scikit-learn.org/stable/modules/linear_model.html#logistic-regression\n",
      "  extra_warning_msg=_LOGISTIC_SOLVER_CONVERGENCE_MSG)\n",
      "C:\\Users\\Gustavo\\Anaconda3\\envs\\learn-env\\lib\\site-packages\\sklearn\\linear_model\\_logistic.py:764: ConvergenceWarning: lbfgs failed to converge (status=1):\n",
      "STOP: TOTAL NO. of ITERATIONS REACHED LIMIT.\n",
      "\n",
      "Increase the number of iterations (max_iter) or scale the data as shown in:\n",
      "    https://scikit-learn.org/stable/modules/preprocessing.html\n",
      "Please also refer to the documentation for alternative solver options:\n",
      "    https://scikit-learn.org/stable/modules/linear_model.html#logistic-regression\n",
      "  extra_warning_msg=_LOGISTIC_SOLVER_CONVERGENCE_MSG)\n",
      "C:\\Users\\Gustavo\\Anaconda3\\envs\\learn-env\\lib\\site-packages\\sklearn\\linear_model\\_logistic.py:764: ConvergenceWarning: lbfgs failed to converge (status=1):\n",
      "STOP: TOTAL NO. of ITERATIONS REACHED LIMIT.\n",
      "\n",
      "Increase the number of iterations (max_iter) or scale the data as shown in:\n",
      "    https://scikit-learn.org/stable/modules/preprocessing.html\n",
      "Please also refer to the documentation for alternative solver options:\n",
      "    https://scikit-learn.org/stable/modules/linear_model.html#logistic-regression\n",
      "  extra_warning_msg=_LOGISTIC_SOLVER_CONVERGENCE_MSG)\n",
      "C:\\Users\\Gustavo\\Anaconda3\\envs\\learn-env\\lib\\site-packages\\sklearn\\linear_model\\_logistic.py:764: ConvergenceWarning: lbfgs failed to converge (status=1):\n",
      "STOP: TOTAL NO. of ITERATIONS REACHED LIMIT.\n",
      "\n",
      "Increase the number of iterations (max_iter) or scale the data as shown in:\n",
      "    https://scikit-learn.org/stable/modules/preprocessing.html\n",
      "Please also refer to the documentation for alternative solver options:\n",
      "    https://scikit-learn.org/stable/modules/linear_model.html#logistic-regression\n",
      "  extra_warning_msg=_LOGISTIC_SOLVER_CONVERGENCE_MSG)\n",
      "C:\\Users\\Gustavo\\Anaconda3\\envs\\learn-env\\lib\\site-packages\\sklearn\\linear_model\\_logistic.py:764: ConvergenceWarning: lbfgs failed to converge (status=1):\n",
      "STOP: TOTAL NO. of ITERATIONS REACHED LIMIT.\n",
      "\n",
      "Increase the number of iterations (max_iter) or scale the data as shown in:\n",
      "    https://scikit-learn.org/stable/modules/preprocessing.html\n",
      "Please also refer to the documentation for alternative solver options:\n",
      "    https://scikit-learn.org/stable/modules/linear_model.html#logistic-regression\n",
      "  extra_warning_msg=_LOGISTIC_SOLVER_CONVERGENCE_MSG)\n",
      "C:\\Users\\Gustavo\\Anaconda3\\envs\\learn-env\\lib\\site-packages\\sklearn\\linear_model\\_logistic.py:764: ConvergenceWarning: lbfgs failed to converge (status=1):\n",
      "STOP: TOTAL NO. of ITERATIONS REACHED LIMIT.\n",
      "\n",
      "Increase the number of iterations (max_iter) or scale the data as shown in:\n",
      "    https://scikit-learn.org/stable/modules/preprocessing.html\n",
      "Please also refer to the documentation for alternative solver options:\n",
      "    https://scikit-learn.org/stable/modules/linear_model.html#logistic-regression\n",
      "  extra_warning_msg=_LOGISTIC_SOLVER_CONVERGENCE_MSG)\n",
      "C:\\Users\\Gustavo\\Anaconda3\\envs\\learn-env\\lib\\site-packages\\sklearn\\linear_model\\_logistic.py:764: ConvergenceWarning: lbfgs failed to converge (status=1):\n",
      "STOP: TOTAL NO. of ITERATIONS REACHED LIMIT.\n",
      "\n",
      "Increase the number of iterations (max_iter) or scale the data as shown in:\n",
      "    https://scikit-learn.org/stable/modules/preprocessing.html\n",
      "Please also refer to the documentation for alternative solver options:\n",
      "    https://scikit-learn.org/stable/modules/linear_model.html#logistic-regression\n",
      "  extra_warning_msg=_LOGISTIC_SOLVER_CONVERGENCE_MSG)\n",
      "C:\\Users\\Gustavo\\Anaconda3\\envs\\learn-env\\lib\\site-packages\\sklearn\\linear_model\\_logistic.py:764: ConvergenceWarning: lbfgs failed to converge (status=1):\n",
      "STOP: TOTAL NO. of ITERATIONS REACHED LIMIT.\n",
      "\n",
      "Increase the number of iterations (max_iter) or scale the data as shown in:\n",
      "    https://scikit-learn.org/stable/modules/preprocessing.html\n",
      "Please also refer to the documentation for alternative solver options:\n",
      "    https://scikit-learn.org/stable/modules/linear_model.html#logistic-regression\n",
      "  extra_warning_msg=_LOGISTIC_SOLVER_CONVERGENCE_MSG)\n",
      "C:\\Users\\Gustavo\\Anaconda3\\envs\\learn-env\\lib\\site-packages\\sklearn\\linear_model\\_logistic.py:764: ConvergenceWarning: lbfgs failed to converge (status=1):\n",
      "STOP: TOTAL NO. of ITERATIONS REACHED LIMIT.\n",
      "\n",
      "Increase the number of iterations (max_iter) or scale the data as shown in:\n",
      "    https://scikit-learn.org/stable/modules/preprocessing.html\n",
      "Please also refer to the documentation for alternative solver options:\n",
      "    https://scikit-learn.org/stable/modules/linear_model.html#logistic-regression\n",
      "  extra_warning_msg=_LOGISTIC_SOLVER_CONVERGENCE_MSG)\n",
      "C:\\Users\\Gustavo\\Anaconda3\\envs\\learn-env\\lib\\site-packages\\sklearn\\linear_model\\_sag.py:330: ConvergenceWarning: The max_iter was reached which means the coef_ did not converge\n",
      "  \"the coef_ did not converge\", ConvergenceWarning)\n",
      "C:\\Users\\Gustavo\\Anaconda3\\envs\\learn-env\\lib\\site-packages\\sklearn\\linear_model\\_sag.py:330: ConvergenceWarning: The max_iter was reached which means the coef_ did not converge\n",
      "  \"the coef_ did not converge\", ConvergenceWarning)\n",
      "C:\\Users\\Gustavo\\Anaconda3\\envs\\learn-env\\lib\\site-packages\\sklearn\\linear_model\\_logistic.py:764: ConvergenceWarning: lbfgs failed to converge (status=1):\n",
      "STOP: TOTAL NO. of ITERATIONS REACHED LIMIT.\n",
      "\n",
      "Increase the number of iterations (max_iter) or scale the data as shown in:\n",
      "    https://scikit-learn.org/stable/modules/preprocessing.html\n",
      "Please also refer to the documentation for alternative solver options:\n",
      "    https://scikit-learn.org/stable/modules/linear_model.html#logistic-regression\n",
      "  extra_warning_msg=_LOGISTIC_SOLVER_CONVERGENCE_MSG)\n",
      "C:\\Users\\Gustavo\\Anaconda3\\envs\\learn-env\\lib\\site-packages\\sklearn\\linear_model\\_logistic.py:764: ConvergenceWarning: lbfgs failed to converge (status=1):\n",
      "STOP: TOTAL NO. of ITERATIONS REACHED LIMIT.\n",
      "\n",
      "Increase the number of iterations (max_iter) or scale the data as shown in:\n",
      "    https://scikit-learn.org/stable/modules/preprocessing.html\n",
      "Please also refer to the documentation for alternative solver options:\n",
      "    https://scikit-learn.org/stable/modules/linear_model.html#logistic-regression\n",
      "  extra_warning_msg=_LOGISTIC_SOLVER_CONVERGENCE_MSG)\n",
      "C:\\Users\\Gustavo\\Anaconda3\\envs\\learn-env\\lib\\site-packages\\sklearn\\linear_model\\_logistic.py:764: ConvergenceWarning: lbfgs failed to converge (status=1):\n",
      "STOP: TOTAL NO. of ITERATIONS REACHED LIMIT.\n",
      "\n",
      "Increase the number of iterations (max_iter) or scale the data as shown in:\n",
      "    https://scikit-learn.org/stable/modules/preprocessing.html\n",
      "Please also refer to the documentation for alternative solver options:\n",
      "    https://scikit-learn.org/stable/modules/linear_model.html#logistic-regression\n",
      "  extra_warning_msg=_LOGISTIC_SOLVER_CONVERGENCE_MSG)\n"
     ]
    },
    {
     "name": "stdout",
     "output_type": "stream",
     "text": [
      "{'fit_intercept': True, 'max_iter': 100, 'solver': 'sag'}\n"
     ]
    },
    {
     "name": "stderr",
     "output_type": "stream",
     "text": [
      "C:\\Users\\Gustavo\\Anaconda3\\envs\\learn-env\\lib\\site-packages\\sklearn\\linear_model\\_sag.py:330: ConvergenceWarning: The max_iter was reached which means the coef_ did not converge\n",
      "  \"the coef_ did not converge\", ConvergenceWarning)\n"
     ]
    }
   ],
   "source": [
    "logreg_param_grid = {'fit_intercept':[True, False],\\\n",
    "                    'solver': ['sag','saga'],\\\n",
    "                    'max_iter': [100, 150]}\n",
    "\n",
    "gs_logreg = GridSearchCV(logreg, logreg_param_grid, scoring= 'accuracy', cv=3)\n",
    "\n",
    "gs_logreg.fit(ssX_train, sy_train)\n",
    "print(gs_logreg.best_params_)"
   ]
  },
  {
   "cell_type": "code",
   "execution_count": 20,
   "metadata": {},
   "outputs": [
    {
     "name": "stdout",
     "output_type": "stream",
     "text": [
      "Logistic Regression\n",
      "-------------------------\n",
      "Training Accuracy: 73.7%\n",
      "Test Accuracy:     73.41%\n"
     ]
    }
   ],
   "source": [
    "logreg = LogisticRegression(multi_class= 'multinomial', fit_intercept= True,\\\n",
    "                           solver= 'sag' , max_iter= 100 )\n",
    "\n",
    "#Train data on the model\n",
    "logreg.fit(ssX_train, sy_train)\n",
    "\n",
    "#Predictions for the training and test set\n",
    "logreg_train_preds = logreg.predict(ssX_train)\n",
    "logreg_test_preds = logreg.predict(ssX_test)\n",
    "\n",
    "#Create Classification Result\n",
    "train_accuracy_logreg = accuracy_score(sy_train, logreg_train_preds)\n",
    "test_accuracy_logreg = accuracy_score(sy_test, logreg_test_preds)\n",
    "report_logreg = classification_report(sy_test, logreg_test_preds)\n",
    "\n",
    "print(\"Logistic Regression\")\n",
    "print(\"-------------------------\")\n",
    "print(f\"Training Accuracy: {(train_accuracy_logreg * 100):.4}%\")\n",
    "print(f\"Test Accuracy:     {(test_accuracy_logreg * 100):.4}%\")"
   ]
  },
  {
   "cell_type": "code",
   "execution_count": 21,
   "metadata": {},
   "outputs": [
    {
     "name": "stdout",
     "output_type": "stream",
     "text": [
      "                         precision    recall  f1-score   support\n",
      "\n",
      "             functional       0.72      0.89      0.80      8106\n",
      "functional needs repair       0.39      0.05      0.10      1073\n",
      "         non functional       0.78      0.64      0.70      5671\n",
      "\n",
      "               accuracy                           0.73     14850\n",
      "              macro avg       0.63      0.53      0.53     14850\n",
      "           weighted avg       0.72      0.73      0.71     14850\n",
      "\n"
     ]
    }
   ],
   "source": [
    "print(report_logreg)"
   ]
  },
  {
   "cell_type": "markdown",
   "metadata": {},
   "source": [
    "Logistic Regression is the weakest model showcased by far. It has the lowest accuracy on the training and testing data, as well as the least recall on the minority class by a significant margin and lower scores in all other metrics as well. It is, however, well-fit. The training and test accuracies are remarkably close to one another."
   ]
  },
  {
   "cell_type": "markdown",
   "metadata": {},
   "source": [
    "____________________________________"
   ]
  },
  {
   "cell_type": "markdown",
   "metadata": {},
   "source": [
    "## Dealing with class imbalance with SMOTE\n",
    "Since I have major class imbalance in the dataset, I will use smote to synthetically resample from the scrubbed dataset. I will then rerun the models to compare the accuracy differences between the smoted and non smoted sets."
   ]
  },
  {
   "cell_type": "code",
   "execution_count": 22,
   "metadata": {},
   "outputs": [],
   "source": [
    "smote = SMOTE()"
   ]
  },
  {
   "cell_type": "code",
   "execution_count": 23,
   "metadata": {},
   "outputs": [
    {
     "name": "stdout",
     "output_type": "stream",
     "text": [
      "functional                 24153\n",
      "non functional             17153\n",
      "functional needs repair     3244\n",
      "Name: status_group, dtype: int64 \n",
      "\n",
      "functional needs repair    24153\n",
      "non functional             24153\n",
      "functional                 24153\n",
      "dtype: int64\n"
     ]
    }
   ],
   "source": [
    "#sms = smoted, scrubbed\n",
    "#using smote on dataset\n",
    "smsX_train, smsy_train = smote.fit_sample(sX_train, sy_train)\n",
    "\n",
    "#All column names are put into an array\n",
    "training_column_names = sX_train.columns\n",
    "\n",
    "#Smoted X_train is put in a dataframe just like sX_train\n",
    "smsX_train = pd.DataFrame(smsX_train, columns= training_column_names)\n",
    "\n",
    "#Value counts of target group before smote\n",
    "print(sy_train.value_counts(), '\\n')\n",
    "#Value counts of target group after smote\n",
    "print(pd.Series(smsy_train).value_counts())\n",
    "\n",
    "#Will use '_' at the end to denote that these were done with smote"
   ]
  },
  {
   "cell_type": "markdown",
   "metadata": {},
   "source": [
    "smoted only the training set so that I may test it against our test set."
   ]
  },
  {
   "cell_type": "markdown",
   "metadata": {},
   "source": [
    "_____________________________________"
   ]
  },
  {
   "cell_type": "markdown",
   "metadata": {},
   "source": [
    "## Random Forest Classifier (SMOTE)"
   ]
  },
  {
   "cell_type": "code",
   "execution_count": 24,
   "metadata": {},
   "outputs": [
    {
     "name": "stdout",
     "output_type": "stream",
     "text": [
      "Random Forest (SMOTED)\n",
      "-------------------------\n",
      "Training Accuracy: 93.92%\n",
      "Test Accuracy:     79.65%\n"
     ]
    }
   ],
   "source": [
    "forest_ = RandomForestClassifier(n_estimators=500, criterion='gini', \n",
    "                                max_depth=None, min_samples_split=5, min_samples_leaf=2)\n",
    "\n",
    "#Train data on the model\n",
    "forest_.fit(smsX_train, smsy_train)\n",
    "\n",
    "#Predictions for the training and test set\n",
    "forest_train_preds_ = forest_.predict(smsX_train)\n",
    "forest_test_preds_ = forest_.predict(sX_test)\n",
    "\n",
    "#Create Classification Result\n",
    "train_accuracy_forest_ = accuracy_score(smsy_train, forest_train_preds_)\n",
    "test_accuracy_forest_ = accuracy_score(sy_test, forest_test_preds_)\n",
    "report_forest_ = classification_report(sy_test, forest_test_preds_)\n",
    "\n",
    "\n",
    "print(\"Random Forest (SMOTED)\")\n",
    "print(\"-------------------------\")\n",
    "print(f\"Training Accuracy: {(train_accuracy_forest_ * 100):.4}%\")\n",
    "print(f\"Test Accuracy:     {(test_accuracy_forest_ * 100):.4}%\")\n",
    "\n",
    "# append accuracy score to our dataframe\n",
    "score_forest = ['Random Forest', train_accuracy_forest, test_accuracy_forest]"
   ]
  },
  {
   "cell_type": "code",
   "execution_count": 25,
   "metadata": {},
   "outputs": [
    {
     "name": "stdout",
     "output_type": "stream",
     "text": [
      "                         precision    recall  f1-score   support\n",
      "\n",
      "             functional       0.82      0.86      0.84      8106\n",
      "functional needs repair       0.46      0.44      0.45      1073\n",
      "         non functional       0.83      0.78      0.80      5671\n",
      "\n",
      "               accuracy                           0.80     14850\n",
      "              macro avg       0.70      0.69      0.70     14850\n",
      "           weighted avg       0.80      0.80      0.80     14850\n",
      "\n"
     ]
    }
   ],
   "source": [
    "print(report_forest_)"
   ]
  },
  {
   "cell_type": "code",
   "execution_count": 26,
   "metadata": {},
   "outputs": [
    {
     "name": "stdout",
     "output_type": "stream",
     "text": [
      "[[7306  112  688]\n",
      " [ 604  289  180]\n",
      " [1287   50 4334]] \n",
      "\n",
      "Smoted \n",
      " [[6965  391  750]\n",
      " [ 454  467  152]\n",
      " [1126  149 4396]] \n",
      "\n"
     ]
    }
   ],
   "source": [
    "#Prints the confusion matrices for our smoted and non smoted classifier\n",
    "#without smote\n",
    "print(confusion_matrix(sy_test, forest_test_preds),'\\n')\n",
    "#with smote\n",
    "print(\"Smoted \\n\",confusion_matrix(sy_test, forest_test_preds_), '\\n')"
   ]
  },
  {
   "cell_type": "markdown",
   "metadata": {},
   "source": [
    "It appears as if SMOTE has caused our model to overfit more onto the training data as the Training Accuracy hs increased while Test Accuracy decreased. Recall on the minority class has increased at the expense of some precision, however the f1 score has improved, signaling that overall SMOTE-ing has increased the random forest's ability to classify the minority class. Accuracy overall has dropped by less than 1%. It appears the model is paying in accuracy of identifying the 'functional' class correctly for identifying a greater portion of the minority classes."
   ]
  },
  {
   "cell_type": "markdown",
   "metadata": {},
   "source": [
    "_________________________________________"
   ]
  },
  {
   "cell_type": "markdown",
   "metadata": {},
   "source": [
    "## XGBoost Classifier (SMOTE)"
   ]
  },
  {
   "cell_type": "code",
   "execution_count": 27,
   "metadata": {},
   "outputs": [
    {
     "name": "stdout",
     "output_type": "stream",
     "text": [
      "XGBoost (SMOTED)\n",
      "-------------------------\n",
      "Training Accuracy: 87.99%\n",
      "Test Accuracy:     78.04%\n"
     ]
    }
   ],
   "source": [
    "xgbooster_ = XGBClassifier(n_estimators= 200,learning_rate= 0.1, max_depth= 7,\\\n",
    "                         gamma= 0.2)\n",
    "\n",
    "#Train data on the model\n",
    "xgbooster_.fit(smsX_train, smsy_train)\n",
    "\n",
    "#Predictions for the training and test set\n",
    "xgbooster_train_preds_ = xgbooster_.predict(smsX_train)\n",
    "xgbooster_test_preds_ = xgbooster_.predict(sX_test)\n",
    "\n",
    "#Create Classification Result\n",
    "train_accuracy_xgbooster_ = accuracy_score(smsy_train, xgbooster_train_preds_)\n",
    "test_accuracy_xgbooster_ = accuracy_score(sy_test, xgbooster_test_preds_)\n",
    "report_xgbooster_ = classification_report(sy_test, xgbooster_test_preds_)\n",
    "\n",
    "print(\"XGBoost (SMOTED)\")\n",
    "print(\"-------------------------\")\n",
    "print(f\"Training Accuracy: {(train_accuracy_xgbooster_ * 100):.4}%\")\n",
    "print(f\"Test Accuracy:     {(test_accuracy_xgbooster_ * 100):.4}%\")"
   ]
  },
  {
   "cell_type": "code",
   "execution_count": 28,
   "metadata": {},
   "outputs": [
    {
     "name": "stdout",
     "output_type": "stream",
     "text": [
      "                         precision    recall  f1-score   support\n",
      "\n",
      "             functional       0.80      0.85      0.83      8106\n",
      "functional needs repair       0.41      0.44      0.43      1073\n",
      "         non functional       0.83      0.74      0.78      5671\n",
      "\n",
      "               accuracy                           0.78     14850\n",
      "              macro avg       0.68      0.68      0.68     14850\n",
      "           weighted avg       0.78      0.78      0.78     14850\n",
      "\n"
     ]
    }
   ],
   "source": [
    "print(report_xgbooster_)"
   ]
  },
  {
   "cell_type": "code",
   "execution_count": 29,
   "metadata": {},
   "outputs": [
    {
     "name": "stdout",
     "output_type": "stream",
     "text": [
      "[[7373  113  620]\n",
      " [ 663  255  155]\n",
      " [1428   37 4206]] \n",
      "\n",
      "Smoted \n",
      " [[6930  488  688]\n",
      " [ 458  473  142]\n",
      " [1304  181 4186]] \n",
      "\n"
     ]
    }
   ],
   "source": [
    "#Prints the confusion matrices for our smoted and non smoted classifier\n",
    "#without smote\n",
    "print(confusion_matrix(sy_test, xgbooster_test_preds),'\\n')\n",
    "#with smote\n",
    "print(\"Smoted \\n\",confusion_matrix(sy_test, xgbooster_test_preds_), '\\n')"
   ]
  },
  {
   "cell_type": "markdown",
   "metadata": {},
   "source": [
    "Similar occurance in what happend to our random forest has happened in our xgboost classifier. Training accuracy has increased by a noticeable portion while test accuracy has dropped minimally. There is increased recall  and f1 score for the minority class. The decrease in accuracy could be a result of overfitting as caused by SMOTE-ing the training data. Similar to the random forest, this model is less accurately able to classify the 'funcitonal' class while more correctly able to classify the minority classes."
   ]
  },
  {
   "cell_type": "markdown",
   "metadata": {},
   "source": [
    "______________________________________________"
   ]
  },
  {
   "cell_type": "markdown",
   "metadata": {},
   "source": [
    "## K-Nearest Neighbors (SMOTE)"
   ]
  },
  {
   "cell_type": "code",
   "execution_count": 30,
   "metadata": {},
   "outputs": [
    {
     "data": {
      "text/plain": [
       "Pipeline(steps=[('mm', MinMaxScaler()),\n",
       "                ('knn',\n",
       "                 KNeighborsClassifier(n_neighbors=8, weights='distance'))])"
      ]
     },
     "execution_count": 30,
     "metadata": {},
     "output_type": "execute_result"
    }
   ],
   "source": [
    "#Creating pipeline that will scale the smoted data and then run the knn classifier\n",
    "knn_pipeline = Pipeline([('mm', MinMaxScaler()),\n",
    "                             ('knn', KNeighborsClassifier(n_neighbors= 8 , weights= 'distance' ))])\n",
    "\n",
    "#fitting pipeline to smoted data\n",
    "knn_pipeline.fit(smsX_train, smsy_train)"
   ]
  },
  {
   "cell_type": "code",
   "execution_count": 31,
   "metadata": {},
   "outputs": [
    {
     "name": "stdout",
     "output_type": "stream",
     "text": [
      "K-Nearest Neighbors (SMOTED)\n",
      "-------------------------\n",
      "Training Accuracy: 99.88%\n",
      "Test Accuracy:     75.35%\n"
     ]
    }
   ],
   "source": [
    "#Predictions for the training and test set\n",
    "knn_pipeline_train_preds = knn_pipeline.predict(smsX_train)\n",
    "knn_pipeline_test_preds = knn_pipeline.predict(sX_test)\n",
    "\n",
    "#Create Classification Result\n",
    "train_accuracy_knn_ = accuracy_score(smsy_train, knn_pipeline_train_preds)\n",
    "test_accuracy_knn_ = accuracy_score(sy_test, knn_pipeline_test_preds)\n",
    "report_knn_ = classification_report(sy_test, knn_pipeline_test_preds)\n",
    "\n",
    "print(\"K-Nearest Neighbors (SMOTED)\")\n",
    "print(\"-------------------------\")\n",
    "print(f\"Training Accuracy: {(train_accuracy_knn_ * 100):.4}%\")\n",
    "print(f\"Test Accuracy:     {(test_accuracy_knn_ * 100):.4}%\")"
   ]
  },
  {
   "cell_type": "code",
   "execution_count": 32,
   "metadata": {},
   "outputs": [
    {
     "name": "stdout",
     "output_type": "stream",
     "text": [
      "                         precision    recall  f1-score   support\n",
      "\n",
      "             functional       0.81      0.79      0.80      8106\n",
      "functional needs repair       0.32      0.46      0.38      1073\n",
      "         non functional       0.79      0.76      0.77      5671\n",
      "\n",
      "               accuracy                           0.75     14850\n",
      "              macro avg       0.64      0.67      0.65     14850\n",
      "           weighted avg       0.77      0.75      0.76     14850\n",
      "\n"
     ]
    }
   ],
   "source": [
    "print(report_knn_)"
   ]
  },
  {
   "cell_type": "code",
   "execution_count": 33,
   "metadata": {},
   "outputs": [
    {
     "name": "stdout",
     "output_type": "stream",
     "text": [
      "[[6889  281  936]\n",
      " [ 530  360  183]\n",
      " [1237  131 4303]] \n",
      "\n",
      "Smoted \n",
      " [[6409  712  985]\n",
      " [ 423  498  152]\n",
      " [1053  335 4283]] \n",
      "\n"
     ]
    }
   ],
   "source": [
    "#Prints the confusion matrices for our smoted and non smoted classifier\n",
    "#without smote\n",
    "print(confusion_matrix(sy_test, knn_test_preds),'\\n')\n",
    "#with smote\n",
    "print(\"Smoted \\n\",confusion_matrix(sy_test, knn_pipeline_test_preds), '\\n')"
   ]
  },
  {
   "cell_type": "markdown",
   "metadata": {},
   "source": [
    "The trend continues with the K-nearest neighbors model. The model is has an increased training accuracy with a decreased test accuracy. In this model however there are less points in the 'non functional' class that were classified correctly, but only 6. More points were classified correctly in the 'functional needs repair' class."
   ]
  },
  {
   "cell_type": "markdown",
   "metadata": {},
   "source": [
    "___________________________________"
   ]
  },
  {
   "cell_type": "markdown",
   "metadata": {},
   "source": [
    "## Logistic Regression (SMOTE)"
   ]
  },
  {
   "cell_type": "code",
   "execution_count": 34,
   "metadata": {},
   "outputs": [
    {
     "data": {
      "text/plain": [
       "Pipeline(steps=[('mm', MinMaxScaler()),\n",
       "                ('logr',\n",
       "                 LogisticRegression(multi_class='multinomial', solver='sag'))])"
      ]
     },
     "execution_count": 34,
     "metadata": {},
     "output_type": "execute_result"
    }
   ],
   "source": [
    "logreg_pipeline = Pipeline([('mm', MinMaxScaler()),\n",
    "                             ('logr', LogisticRegression(multi_class= 'multinomial', fit_intercept= True,\\\n",
    "                           solver= 'sag' , max_iter= 100 ))])\n",
    "\n",
    "logreg_pipeline.fit(smsX_train, smsy_train)"
   ]
  },
  {
   "cell_type": "code",
   "execution_count": 35,
   "metadata": {},
   "outputs": [
    {
     "name": "stdout",
     "output_type": "stream",
     "text": [
      "Logistic Regression (SMOTED)\n",
      "-------------------------\n",
      "Training Accuracy: 65.78%\n",
      "Test Accuracy:     63.37%\n"
     ]
    }
   ],
   "source": [
    "#Predictions for the training and test set\n",
    "logreg_pipeline_train_preds = logreg_pipeline.predict(smsX_train)\n",
    "logreg_pipeline_test_preds = logreg_pipeline.predict(sX_test)\n",
    "\n",
    "#Create Classification Result\n",
    "train_accuracy_logreg_ = accuracy_score(smsy_train, logreg_pipeline_train_preds)\n",
    "test_accuracy_logreg_ = accuracy_score(sy_test, logreg_pipeline_test_preds)\n",
    "report_logreg_ = classification_report(sy_test, logreg_pipeline_test_preds)\n",
    "\n",
    "print(\"Logistic Regression (SMOTED)\")\n",
    "print(\"-------------------------\")\n",
    "print(f\"Training Accuracy: {(train_accuracy_logreg_ * 100):.4}%\")\n",
    "print(f\"Test Accuracy:     {(test_accuracy_logreg_ * 100):.4}%\")"
   ]
  },
  {
   "cell_type": "code",
   "execution_count": 36,
   "metadata": {},
   "outputs": [
    {
     "name": "stdout",
     "output_type": "stream",
     "text": [
      "                         precision    recall  f1-score   support\n",
      "\n",
      "             functional       0.78      0.63      0.70      8106\n",
      "functional needs repair       0.19      0.62      0.29      1073\n",
      "         non functional       0.77      0.64      0.70      5671\n",
      "\n",
      "               accuracy                           0.63     14850\n",
      "              macro avg       0.58      0.63      0.56     14850\n",
      "           weighted avg       0.73      0.63      0.67     14850\n",
      "\n"
     ]
    }
   ],
   "source": [
    "print(report_logreg_)"
   ]
  },
  {
   "cell_type": "code",
   "execution_count": 37,
   "metadata": {},
   "outputs": [
    {
     "name": "stdout",
     "output_type": "stream",
     "text": [
      "[[7226   46  834]\n",
      " [ 822   58  193]\n",
      " [2011   43 3617]] \n",
      "\n",
      "Smoted \n",
      " [[5122 2036  948]\n",
      " [ 271  670  132]\n",
      " [1154  898 3619]] \n",
      "\n"
     ]
    }
   ],
   "source": [
    "#Prints the confusion matrices for our smoted and non smoted classifier\n",
    "#without smote\n",
    "print(confusion_matrix(sy_test, logreg_test_preds),'\\n')\n",
    "#with smote\n",
    "print(\"Smoted \\n\",confusion_matrix(sy_test, logreg_pipeline_test_preds), '\\n')"
   ]
  },
  {
   "cell_type": "markdown",
   "metadata": {},
   "source": [
    "Training and test accuracy have dropped considerably between the before and after smote logistic regression classifiers. Logistic regression with smote did, however, correctly identify the highest amount of the minority class and experienced the greatest difference in recall before and after smote for said minority class. The accuracy has dropped considerably, most likely due to the plentiful misclassification of the majority class."
   ]
  },
  {
   "cell_type": "markdown",
   "metadata": {},
   "source": [
    "___________________________________________________"
   ]
  },
  {
   "cell_type": "markdown",
   "metadata": {},
   "source": [
    "## Selecting Final Model"
   ]
  },
  {
   "cell_type": "markdown",
   "metadata": {},
   "source": [
    "Random Forest seemed to have the highest accuracy score, but let us view it in comparison to our other models"
   ]
  },
  {
   "cell_type": "code",
   "execution_count": 38,
   "metadata": {},
   "outputs": [],
   "source": [
    "test_accuracies_dict = {'Model': ['Random Forest','Random Forest','XGBoost','XGBoost',\\\n",
    "                                  'KNN','KNN','Logistic Regression','Logistic Regression'],\\\n",
    "                       'Accuracy':[test_accuracy_forest, test_accuracy_forest_, test_accuracy_xgbooster, test_accuracy_xgbooster_,\\\n",
    "                                  test_accuracy_knn, test_accuracy_knn_, test_accuracy_logreg, test_accuracy_logreg_],\\\n",
    "                       'SMOTE':['Without SMOTE','SMOTE','Without SMOTE','SMOTE','Without SMOTE','SMOTE','Without SMOTE','SMOTE']}"
   ]
  },
  {
   "cell_type": "code",
   "execution_count": 39,
   "metadata": {},
   "outputs": [
    {
     "data": {
      "image/png": "[encoded data removed]",
      "text/plain": [
       "<Figure size 576x576 with 1 Axes>"
      ]
     },
     "metadata": {},
     "output_type": "display_data"
    }
   ],
   "source": [
    "plt.figure(figsize=(8,8))\n",
    "ax = sns.barplot(data=test_accuracies_dict, x='Model', y='Accuracy',\\\n",
    "                hue='SMOTE', palette=['#EF0000','#0094D5'])\n",
    "\n",
    "for patch in ax.patches:\n",
    "    x = patch.get_bbox().get_points()[:,0]\n",
    "    y = patch.get_bbox().get_points()[1,1]\n",
    "    ax.annotate(\"{}%\".format(round(100*patch.get_height(),2)), (x.mean(), y),\\\n",
    "               ha= 'center', va= 'bottom', fontsize= 'medium') #sets text alignment\n",
    "    \n",
    "    \n",
    "ax.set_title(\"Percentage Accuracy of Various Classifiers\",fontsize=16)\n",
    "ax.set_ylabel(\"Accuracy (%)\", fontsize= 14)\n",
    "ax.set_xlabel(\"Classifier\", fontsize=14)\n",
    "\n",
    "plt.show()"
   ]
  },
  {
   "cell_type": "code",
   "execution_count": 40,
   "metadata": {},
   "outputs": [],
   "source": [
    "def plot_feature_importances(model, model_name, num_of_features= 'all'):\n",
    "    \n",
    "    #Allows for specification of number of features to show\n",
    "    if num_of_features == 'all':\n",
    "        n_features = sX_train.shape[1]\n",
    "    else:\n",
    "        n_features= num_of_features\n",
    "        \n",
    "    plt.figure(figsize=(12,8))\n",
    "    \n",
    "    #Creates a list of dictionaries of features and their importance\n",
    "    features_list = []\n",
    "    for feature, feature_importance in zip(sX_train.columns.values, model.feature_importances_):\n",
    "        features_list.append({'Feature':feature, 'Feature Importance':feature_importance})\n",
    "    \n",
    "    #Creates a dataframe for easier time plotting. df is sorted with most important features at the top\n",
    "    feature_df = pd.DataFrame(sorted(features_list, key=lambda i: i['Feature Importance'], reverse=True))\n",
    "    \n",
    "    sns.barplot(data=feature_df[:n_features], x='Feature Importance',y='Feature', orient='h')\n",
    "    \n",
    "    plt.title(\"Feature Importance of {} model\".format(model_name), fontsize=16)\n",
    "    plt.xlabel('Feature importance', fontsize=14)\n",
    "    plt.ylabel('Feature', fontsize=14)\n",
    "sns.set_style('darkgrid')"
   ]
  },
  {
   "cell_type": "code",
   "execution_count": 41,
   "metadata": {},
   "outputs": [
    {
     "data": {
      "image/png": "[encoded data removed]",
      "text/plain": [
       "<Figure size 864x576 with 1 Axes>"
      ]
     },
     "metadata": {},
     "output_type": "display_data"
    }
   ],
   "source": [
    "plot_feature_importances(forest, 'Random Forest', 20)"
   ]
  },
  {
   "cell_type": "code",
   "execution_count": 42,
   "metadata": {},
   "outputs": [
    {
     "data": {
      "image/png": "[encoded data removed]",
      "text/plain": [
       "<Figure size 864x576 with 1 Axes>"
      ]
     },
     "metadata": {},
     "output_type": "display_data"
    }
   ],
   "source": [
    "plot_feature_importances(forest_, 'Smoted Random Forest', 20)"
   ]
  },
  {
   "cell_type": "markdown",
   "metadata": {},
   "source": [
    "Looks like the most important features within the Random Forest model were the longitude and latitude coordinates. Days since record and since construction proved to be important as well.  Certain categories such as quantity-succifient proved to be more useful when we Smoted our dataset and rose in importance. "
   ]
  },
  {
   "cell_type": "code",
   "execution_count": 43,
   "metadata": {},
   "outputs": [
    {
     "data": {
      "image/png": "[encoded data removed]",
      "text/plain": [
       "<Figure size 864x576 with 1 Axes>"
      ]
     },
     "metadata": {},
     "output_type": "display_data"
    }
   ],
   "source": [
    "plot_feature_importances(xgbooster, 'XGBoost', 20)"
   ]
  },
  {
   "cell_type": "code",
   "execution_count": 44,
   "metadata": {},
   "outputs": [
    {
     "data": {
      "image/png": "[encoded data removed]",
      "text/plain": [
       "<Figure size 864x576 with 1 Axes>"
      ]
     },
     "metadata": {},
     "output_type": "display_data"
    }
   ],
   "source": [
    "plot_feature_importances(xgbooster_, 'Smoted XGBoost', 20)"
   ]
  },
  {
   "cell_type": "markdown",
   "metadata": {},
   "source": [
    "\n",
    "Within the XGBoost classifier, extraction type class-other, quantity-seasonal, and waterpoint type group-other appear to be the most important. With the smoted data, different regional identities rise in feature importance, this points to possibly paying more attention to these regions in the future.\n",
    "# -\n",
    "feature importances appear better spread after having had smoted the data. The weight of importance is better distributed among features"
   ]
  },
  {
   "cell_type": "markdown",
   "metadata": {},
   "source": [
    "_____________________________"
   ]
  },
  {
   "cell_type": "markdown",
   "metadata": {},
   "source": [
    "## Final Test Score\n",
    "Random Forest gave the best score of all the classifiers, and thus is the classifier I choose. I will use the SMOTED version of the training set, as it picks up more of the minority class."
   ]
  },
  {
   "cell_type": "code",
   "execution_count": 45,
   "metadata": {},
   "outputs": [
    {
     "data": {
      "text/plain": [
       "0.7964983164983165"
      ]
     },
     "execution_count": 45,
     "metadata": {},
     "output_type": "execute_result"
    }
   ],
   "source": [
    "forest_.score(sX_test, sy_test)"
   ]
  },
  {
   "cell_type": "code",
   "execution_count": null,
   "metadata": {},
   "outputs": [],
   "source": []
  }
 ],
 "metadata": {
  "kernelspec": {
   "display_name": "learn-env",
   "language": "python",
   "name": "learn-env"
  },
  "language_info": {
   "codemirror_mode": {
    "name": "ipython",
    "version": 3
   },
   "file_extension": ".py",
   "mimetype": "text/x-python",
   "name": "python",
   "nbconvert_exporter": "python",
   "pygments_lexer": "ipython3",
   "version": "3.6.9"
  }
 },
 "nbformat": 4,
 "nbformat_minor": 4
}
